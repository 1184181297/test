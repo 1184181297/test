{
 "cells": [
  {
   "cell_type": "markdown",
   "metadata": {},
   "source": [
    "粪肥"
   ]
  },
  {
   "cell_type": "code",
   "execution_count": 1,
   "metadata": {},
   "outputs": [],
   "source": [
    "import csv\n",
    "import numpy as np\n",
    "import pandas as pd\n",
    "import os"
   ]
  },
  {
   "cell_type": "code",
   "execution_count": 12,
   "metadata": {},
   "outputs": [],
   "source": [
    "#农村人口\n",
    "csvpath1=\"D:\\\\Desktop\\\\rural_people.csv\"\n",
    "df_p = pd.read_csv(csvpath1,header=0,encoding=\"gbk\")\n",
    "mandf= pd.DataFrame(columns = df_p.columns) \n",
    "# #牲畜\n",
    "rootPath=\"D:\\\\Desktop\\\\animal_csv\"\n",
    "excelNames = os.listdir(rootPath)\n",
    "for i in range(len(excelNames)):\n",
    "    csvpath=rootPath+\"\\\\\"+excelNames[i] \n",
    "    df=pd.read_csv(csvpath,header=0,encoding=\"gbk\")\n",
    "    df.fillna(0,inplace=True)\n",
    "    man_an=df.iloc[:,1]*48.8+df.iloc[:,2]*27.2+df.iloc[:,3]*15.5+df.iloc[:,4]*15.5+df.iloc[:,7]*8.1+df.iloc[:,8]*5.7\n",
    "    man_to=(man_an+df_p.iloc[:,i+1]*5)*0.5\n",
    "    mandf.iloc[:,i+1]=man_to\n",
    "mandf.iloc[:,0]=df_p.iloc[:,0]\n",
    "\n",
    "outpathname=\"D:\\\\Desktop\\\\result_fenfei.csv\"\n",
    "mandf.to_csv(outpathname)"
   ]
  },
  {
   "cell_type": "code",
   "execution_count": null,
   "metadata": {},
   "outputs": [],
   "source": []
  }
 ],
 "metadata": {
  "kernelspec": {
   "display_name": "Python 3",
   "language": "python",
   "name": "python3"
  },
  "language_info": {
   "codemirror_mode": {
    "name": "ipython",
    "version": 3
   },
   "file_extension": ".py",
   "mimetype": "text/x-python",
   "name": "python",
   "nbconvert_exporter": "python",
   "pygments_lexer": "ipython3",
   "version": "3.7.0"
  }
 },
 "nbformat": 4,
 "nbformat_minor": 2
}
